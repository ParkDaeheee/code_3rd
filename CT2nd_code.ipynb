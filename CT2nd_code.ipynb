{
  "nbformat": 4,
  "nbformat_minor": 0,
  "metadata": {
    "colab": {
      "provenance": [],
      "authorship_tag": "ABX9TyMgZ+ntLW09pmKfPoeFoa79",
      "include_colab_link": true
    },
    "kernelspec": {
      "name": "python3",
      "display_name": "Python 3"
    },
    "language_info": {
      "name": "python"
    }
  },
  "cells": [
    {
      "cell_type": "markdown",
      "metadata": {
        "id": "view-in-github",
        "colab_type": "text"
      },
      "source": [
        "<a href=\"https://colab.research.google.com/github/ParkDaeheee/code_3rd/blob/main/CT2nd_code.ipynb\" target=\"_parent\"><img src=\"https://colab.research.google.com/assets/colab-badge.svg\" alt=\"Open In Colab\"/></a>"
      ]
    },
    {
      "cell_type": "markdown",
      "source": [
        "2번째 코딩\n",
        "\n",
        "* 사용자로부터 3개의 값을 받어서 합을 내고, 평균을 출력하는 코드\n"
      ],
      "metadata": {
        "id": "NEchsDIGKuUV"
      }
    },
    {
      "cell_type": "code",
      "execution_count": null,
      "metadata": {
        "colab": {
          "base_uri": "https://localhost:8080/"
        },
        "id": "7rKHu_BnGgRS",
        "outputId": "3546832d-7ec7-49ef-a760-8a19fdf78219"
      },
      "outputs": [
        {
          "output_type": "stream",
          "name": "stdout",
          "text": [
            "N1의 값을 입력하시오.:40\n",
            "N2의 값을 입력하시오.:50\n",
            "N3의 값을 입력하시오.:60\n",
            "50.0\n"
          ]
        }
      ],
      "source": [
        "n1 = int(input(\"N1의 값을 입력하시오.:\")) # N1의 값을 입력받습니다.\n",
        "n2 = int(input(\"N2의 값을 입력하시오.:\")) # N2의 값을 입력받습니다.\n",
        "n3 = int(input(\"N3의 값을 입력하시오.:\")) # N3의 값을 입력받습니다.\n",
        "total = n1 +n2 + n3 # 입력받은 세 값의 합을 계산합니다.\n",
        "average = total / 3 # 총합을 3으로 나누어 평균을 계산합니다.\n",
        "print(average) # 평균을 출력합니다."
      ]
    }
  ]
}