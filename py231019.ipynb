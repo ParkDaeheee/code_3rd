{
  "nbformat": 4,
  "nbformat_minor": 0,
  "metadata": {
    "colab": {
      "provenance": [],
      "authorship_tag": "ABX9TyPMYdAs4fu7ct5fdipw3DKk",
      "include_colab_link": true
    },
    "kernelspec": {
      "name": "python3",
      "display_name": "Python 3"
    },
    "language_info": {
      "name": "python"
    }
  },
  "cells": [
    {
      "cell_type": "markdown",
      "metadata": {
        "id": "view-in-github",
        "colab_type": "text"
      },
      "source": [
        "<a href=\"https://colab.research.google.com/github/ParkDaeheee/code_3rd/blob/main/py231019.ipynb\" target=\"_parent\"><img src=\"https://colab.research.google.com/assets/colab-badge.svg\" alt=\"Open In Colab\"/></a>"
      ]
    },
    {
      "cell_type": "markdown",
      "source": [
        "To-Do List를 작성하시오.\n",
        "  - 2023년 10월 19일 박대희\n",
        "  - (1) 09:20 도서관에서 책 빌리기\n",
        "  - (2) 11:10 컴퓨팅 적사고와 기초코딩 수업\n",
        "  - (3) 13:00 점심식사\n",
        "  - (4) 14:10 교양수업\n",
        "  - (5) 16:00 파이썬 공부 및 레포트 작성\n",
        "  - (6) 17:40 저녁식사 및 집안일 돕기\n",
        "  - (7) 19:00 LOL 하기"
      ],
      "metadata": {
        "id": "U7oEd9s_g2qg"
      }
    },
    {
      "cell_type": "code",
      "source": [
        "print(\"To-Do List\") # To-Do List를 출력하는 코드입니다.\n",
        "print(\"- 2023년 10월 19일 박대희\") # 날짜와 이름을 출력합니다.\n",
        "print(\"- (1) 09:20 도서관에서 책 빌리기\") # (1) 도서관에서 책 빌리기 작업을 출력합니다.\n",
        "print(\"- (2) 11:10 컴퓨팅 적사고와 기초코딩 수업\") # (2) 컴퓨팅 적사고와 기초코딩 수업 작업을 출력합니다.\n",
        "print(\"- (3) 13:00 점심식사\") # (3) 점심식사 작업을 출력합니다.\n",
        "print(\"- (4) 14:10 교양수업\") # (4) 교양수업 작업을 출력합니다.\n",
        "print(\"- (5) 16:00 파이썬 공부 및 레포트 작성\") # (5) 파이썬 공부 및 레포트 작성 작업을 출력합니다.\n",
        "print(\"- (6) 17:40 저녁식사 및 집안일 돕기\") # (6) 저녁식사 및 집안일 돕기 작업을 출력합니다.\n",
        "print(\"- (7) 19:00 LOL 하기\") # (7) LOL 하기 작업을 출력합니다."
      ],
      "metadata": {
        "colab": {
          "base_uri": "https://localhost:8080/"
        },
        "id": "Kt7oi-Xdxq26",
        "outputId": "8ef3cf07-447d-4618-e113-1d8f90fc3a80"
      },
      "execution_count": null,
      "outputs": [
        {
          "output_type": "stream",
          "name": "stdout",
          "text": [
            "To-Do List\n",
            "- 2023년 10월 19일 박대희\n",
            "- (1) 09:20 도서관에서 책 빌리기\n",
            "- (2) 11:10 컴퓨팅 적사고와 기초코딩 수업\n",
            "- (3) 13:00 점심식사\n",
            "- (4) 14:10 교양수업\n",
            "- (5) 16:00 파이썬 공부 및 레포트 작성\n",
            "- (6) 17:40 저녁식사 및 집안일 돕기\n",
            "- (7) 19:00 LOL 하기\n"
          ]
        }
      ]
    },
    {
      "cell_type": "code",
      "source": [],
      "metadata": {
        "id": "bOlULLoh1DGb"
      },
      "execution_count": null,
      "outputs": []
    },
    {
      "cell_type": "markdown",
      "source": [
        "2. 인사말 출력하기\n",
        "  - 식사하셨습니까? 행님"
      ],
      "metadata": {
        "id": "34ZHYrRZwaS-"
      }
    },
    {
      "cell_type": "code",
      "source": [
        "print(\"식사하셨습니까? 행님\") # 사용자에게 식사 여부를 묻는 메시지를 출력합니다."
      ],
      "metadata": {
        "colab": {
          "base_uri": "https://localhost:8080/"
        },
        "id": "fJEiOQXq0PIb",
        "outputId": "51b5a39b-9b7d-4bfe-f25b-c7892092a876"
      },
      "execution_count": null,
      "outputs": [
        {
          "output_type": "stream",
          "name": "stdout",
          "text": [
            "식사하셨습니까? 행님\n"
          ]
        }
      ]
    },
    {
      "cell_type": "markdown",
      "source": [
        "3. 학생 4명의 국어점수를 입력받아서 아래와 같이 출력하시오.\n",
        "  - 박보검: 90점\n",
        "  - 션    : 92점\n",
        "  - 도룡뇽: 80점\n",
        "  - 차은우: 99점\n",
        "  - 국어 점수 순위\n",
        "  - 1등 차은우\n",
        "  - 2등 션\n",
        "  - 3등 박보검\n",
        "  - 4등 도룡뇽"
      ],
      "metadata": {
        "id": "oefrxpQwwtXT"
      }
    },
    {
      "cell_type": "code",
      "source": [
        "n1 = int(input(\"학생의 점수를 입력하시오.: \")) # 첫 번째 학생의 점수를 입력받습니다.\n",
        "n2 = int(input(\"학생의 점수를 입력하시오.: \")) # 두 번째 학생의 점수를 입력받습니다.\n",
        "n3 = int(input(\"학생의 점수를 입력하시오.: \")) # 세 번째 학생의 점수를 입력받습니다.\n",
        "n4 = int(input(\"학생의 점수를 입력하시오.: \")) # 네 번째 학생의 점수를 입력받습니다.\n",
        "print(\"국어 점수 순위\") # 국어 점수 순위를 출력하는 부분입니다.\n",
        "print(\"1등\",\"차은우\",n4) # 1등 학생의 이름과 점수를 출력합니다.\n",
        "print(\"2등\",\"션\", n2) # 2등 학생의 이름과 점수를 출력합니다.\n",
        "print(\"3등\",\"박보검\", n1) # 3등 학생의 이름과 점수를 출력합니다.\n",
        "print(\"4등\",\"도룡뇽\", n3) # 4등 학생의 이름과 점수를 출력합니다."
      ],
      "metadata": {
        "colab": {
          "base_uri": "https://localhost:8080/"
        },
        "id": "RsjiQTWey6LD",
        "outputId": "85763cca-8192-4782-f51c-2030be70b1ef"
      },
      "execution_count": null,
      "outputs": [
        {
          "output_type": "stream",
          "name": "stdout",
          "text": [
            "학생의 점수를 입력하시오.: 90\n",
            "학생의 점수를 입력하시오.: 92\n",
            "학생의 점수를 입력하시오.: 80\n",
            "학생의 점수를 입력하시오.: 99\n",
            "국어 점수 순위\n",
            "1등 차은우 99\n",
            "2등 션 92\n",
            "3등 박보검 90\n",
            "4등 도룡뇽 80\n"
          ]
        }
      ]
    },
    {
      "cell_type": "markdown",
      "source": [
        "4. 두 개의 점수를 입력받아서 합계와 평균을 출력하시오."
      ],
      "metadata": {
        "id": "mQcwtMFmxfuD"
      }
    },
    {
      "cell_type": "code",
      "source": [
        "n1 = int(input(\"박보검의 값을 입력하시오.:\")) # 박보검의 값을 입력받습니다.\n",
        "n2 = int(input(\"션의 값을 입력하시오.:\")) # 선의 값을 입력받습니다.\n",
        "total = n1 + n2 # 입력받은 두 값의 합을 계산합니다.\n",
        "average = total / 2 # 총합을 2로 나누어 평균을 계산합니다.\n",
        "print(total) # 총합을 출력합니다.\n",
        "print(average) # 평균을 출력합니다."
      ],
      "metadata": {
        "colab": {
          "base_uri": "https://localhost:8080/"
        },
        "id": "4JOOW8V6y96z",
        "outputId": "42b7de4c-14a8-416a-e97e-abe8c4b73e57"
      },
      "execution_count": null,
      "outputs": [
        {
          "output_type": "stream",
          "name": "stdout",
          "text": [
            "박보검의 값을 입력하시오.:90\n",
            "션의 값을 입력하시오.:92\n",
            "182\n",
            "91.0\n"
          ]
        }
      ]
    }
  ]
}