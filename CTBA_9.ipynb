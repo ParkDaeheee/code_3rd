{
  "nbformat": 4,
  "nbformat_minor": 0,
  "metadata": {
    "colab": {
      "provenance": [],
      "authorship_tag": "ABX9TyObG9F0k8fklodQZ9Al+9FD",
      "include_colab_link": true
    },
    "kernelspec": {
      "name": "python3",
      "display_name": "Python 3"
    },
    "language_info": {
      "name": "python"
    }
  },
  "cells": [
    {
      "cell_type": "markdown",
      "metadata": {
        "id": "view-in-github",
        "colab_type": "text"
      },
      "source": [
        "<a href=\"https://colab.research.google.com/github/ParkDaeheee/code_3rd/blob/main/CTBA_9.ipynb\" target=\"_parent\"><img src=\"https://colab.research.google.com/assets/colab-badge.svg\" alt=\"Open In Colab\"/></a>"
      ]
    },
    {
      "cell_type": "markdown",
      "source": [
        "1. 두가지 이상의 선택, 다양한 선택구조 과정\n",
        " - 배송료처리 3가지로 작성\n",
        " - 변수: price, 가격 10만원이상 0원, 2만원이상 3000원, 그 외 5천원\n"
      ],
      "metadata": {
        "id": "lZKtNrdbMt-p"
      }
    },
    {
      "cell_type": "code",
      "source": [
        "print(\"배송료를 계산합니다.\") # \"배송료를 계산하는 코드입니다.\"라는 주석과 함께 배송료를 계산하는 코드를 출력합니다.\n",
        "print(\"# * 30\") # 구분선을 출력합니다.\n",
        "price = int(input(\"구입금액 입역: \")) # 구입 금액을 입력받습니다.\n",
        "if price >= 10000: # 만약 구입금액이 10000 이상이라면\n",
        "   shipping_cost = 0 # 구입 금액이 10000 이상이면 배송료는 0입니다.\n",
        "else: # 그렇지 않으면(price가 10000 미만인 경우) 아래의 코드\n",
        "    if price >= 20000: # 그렇지 않고, 구입금액이 20000 이상이라면\n",
        "     shipping_cost = 3000 # 구입 금액이 20,000 이상이면 배송료는 3,000입니다.\n",
        "    else: # 그렇지 않으면(price가 20000 미만인 경우) 아래의 코드\n",
        "     shipping_cost = 5000 # 구입 금액이 20,000 미만이면 배송료는 5,000입니다.\n",
        "print(f'배송료는 {shipping_cost} 입니다') # 배송료를 출력합니다."
      ],
      "metadata": {
        "colab": {
          "base_uri": "https://localhost:8080/"
        },
        "id": "mfMt3pTiM-mM",
        "outputId": "c8109dd3-4adb-4c95-8a3a-a6ce04a9ca50"
      },
      "execution_count": null,
      "outputs": [
        {
          "output_type": "stream",
          "name": "stdout",
          "text": [
            "배송료를 계산합니다.\n",
            "# * 30\n",
            "구입금액 입역: 19000\n",
            "배송료는 5000 입니다\n"
          ]
        }
      ]
    },
    {
      "cell_type": "markdown",
      "source": [
        "2. 환영합니다. 5번 출력, 10번 출력, 30번 출력"
      ],
      "metadata": {
        "id": "AZ8gQTTaOUra"
      }
    },
    {
      "cell_type": "code",
      "source": [
        " print(\"환영합니다.\") # \"환영합니다.\"를 출력합니다.\n",
        " print(\"환영합니다.\") # \"환영합니다.\"를 출력합니다.\n",
        " print(\"환영합니다.\") # \"환영합니다.\"를 출력합니다.\n",
        " print(\"환영합니다.\") # \"환영합니다.\"를 출력합니다.\n",
        " print(\"환영합니다.\") # \"환영합니다.\"를 출력합니다."
      ],
      "metadata": {
        "colab": {
          "base_uri": "https://localhost:8080/"
        },
        "id": "nUpjF_GZOZTW",
        "outputId": "0d6e2fbb-9919-4175-9c2f-815ac8014ed4"
      },
      "execution_count": null,
      "outputs": [
        {
          "output_type": "stream",
          "name": "stdout",
          "text": [
            "환영합니다.\n",
            "환영합니다.\n",
            "환영합니다.\n",
            "환영합니다.\n",
            "환영합니다.\n"
          ]
        }
      ]
    },
    {
      "cell_type": "code",
      "source": [
        "print(\"환영합니다.\\n\" * 5) # \"환영합니다.\"를 다섯 번 반복하여 출력합니다."
      ],
      "metadata": {
        "colab": {
          "base_uri": "https://localhost:8080/"
        },
        "id": "Y2H6uGvvO55Y",
        "outputId": "caea5fd2-ec8f-4f5c-d3be-2274405f5f75"
      },
      "execution_count": 1,
      "outputs": [
        {
          "output_type": "stream",
          "name": "stdout",
          "text": [
            "환영합니다.\n",
            "환영합니다.\n",
            "환영합니다.\n",
            "환영합니다.\n",
            "환영합니다.\n",
            "\n"
          ]
        }
      ]
    },
    {
      "cell_type": "code",
      "source": [
        "count = 1 # 변수 count를 1로 초기화합니다.\n",
        "while count <= 5: # count가 5 이하인 동안 반복합니다.\n",
        "  #print(\"(\", count, \")\", \"환영합니다.\") # (count) 환영합니다.를 출력합니다.\n",
        "  print(F'({count})', \"환영합니다\") # (count) 환영합니다.를 출력합니다.\n",
        "  count = count + 1 # count에 1을 더합니다.\n",
        "  #count += 1 # count에 1을 더합니다."
      ],
      "metadata": {
        "colab": {
          "base_uri": "https://localhost:8080/"
        },
        "id": "6eKiY0iQSogb",
        "outputId": "fa8cc44f-fffc-46ee-815e-cebee1f335fe"
      },
      "execution_count": null,
      "outputs": [
        {
          "output_type": "stream",
          "name": "stdout",
          "text": [
            "(1) 환영합니다\n",
            "(2) 환영합니다\n",
            "(3) 환영합니다\n",
            "(4) 환영합니다\n",
            "(5) 환영합니다\n"
          ]
        }
      ]
    },
    {
      "cell_type": "markdown",
      "source": [
        "3. 0부터 9까지 출력하기 변수 X"
      ],
      "metadata": {
        "id": "vu03Hvp1VTvr"
      }
    },
    {
      "cell_type": "code",
      "source": [
        " x = 0 # 변수 x를 0으로 초기화합니다.\n",
        " while x < 10: # x가 10보다 작은 동안 반복합니다.\n",
        "  print(x, end=' ') # x를 출력하고, end=' '로 인해 줄바꿈 대신 공백을 사용합니다.\n",
        "  x += 1 # x에 1을 더합니다."
      ],
      "metadata": {
        "colab": {
          "base_uri": "https://localhost:8080/"
        },
        "id": "WfaiDKLQVDkT",
        "outputId": "fdc3b1b1-f5ce-492f-a41f-3f62916f9ee1"
      },
      "execution_count": null,
      "outputs": [
        {
          "output_type": "stream",
          "name": "stdout",
          "text": [
            "0 1 2 3 4 5 6 7 8 9 "
          ]
        }
      ]
    },
    {
      "cell_type": "markdown",
      "source": [
        "4. 1부터 10까지 정수의 합을 계산하여 출력하는 코드\n",
        "\n",
        "\n"
      ],
      "metadata": {
        "id": "qmInW0zhYqaK"
      }
    },
    {
      "cell_type": "code",
      "source": [
        "x = 1 # 변수 x를 1로 초기화합니다.\n",
        "total = 0 # 변수 total을 0으로 초기화합니다.\n",
        "while x <= 10: # x가 10 이하인 동안 반복합니다.\n",
        "  total = total + x # total에 x를 더합니다.\n",
        "  x += 1 # x에 1을 더합니다.\n",
        "print(total)  # total을 출력합니다."
      ],
      "metadata": {
        "colab": {
          "base_uri": "https://localhost:8080/"
        },
        "id": "m5NqGuogYp7p",
        "outputId": "90aa67d3-2fc0-4f90-8dcc-3e84ced5474f"
      },
      "execution_count": null,
      "outputs": [
        {
          "output_type": "stream",
          "name": "stdout",
          "text": [
            "55\n"
          ]
        }
      ]
    },
    {
      "cell_type": "code",
      "source": [
        "x = 1 # 변수 x를 1로 초기화합니다.\n",
        "while x <= 10: # x가 10 이하인 동안 반복합니다.\n",
        " print(x) # x를 출력합니다.\n",
        " x += 1 # x에 1을 더합니다."
      ],
      "metadata": {
        "colab": {
          "base_uri": "https://localhost:8080/"
        },
        "id": "m6zjqbxmZH-U",
        "outputId": "0191c3ec-6f71-4d17-d1ed-21ec61d30eda"
      },
      "execution_count": null,
      "outputs": [
        {
          "output_type": "stream",
          "name": "stdout",
          "text": [
            "1\n",
            "2\n",
            "3\n",
            "4\n",
            "5\n",
            "6\n",
            "7\n",
            "8\n",
            "9\n",
            "10\n"
          ]
        }
      ]
    },
    {
      "cell_type": "markdown",
      "source": [
        "5. 3-6-9 게임(3의 배수 판단): 3의 배수를 3으로 나누면 나머지가 0이 되므로(i이 0이면 박수를 출력, 아니면 숫자를 출력해주는 코드 작성"
      ],
      "metadata": {
        "id": "liDG-ZH8WJy8"
      }
    },
    {
      "cell_type": "code",
      "source": [
        "i = 0                       # 변수 1는 0으로 선언\n",
        "while i <= 30:              # 반복문 while사용해서 1가 30보다 작거나 같을때\n",
        "  if i % 3 == 0:            # 만약 1값을 3으로 나눈 나머지가 0이면\n",
        "    print(\"박수\", end= ' ') #박수를 출력하고 공백을 하나 만듦\n",
        "  else:                     # 위의 것이 아니면,\n",
        "      print(i, end=' ')     # 1값만 출력하고 공백 하나 만듦\n",
        "  i += 1                    # 변수 1값에 ㅑ와 1을 더해서 다시 변수 1에 선언"
      ],
      "metadata": {
        "colab": {
          "base_uri": "https://localhost:8080/"
        },
        "id": "7jL-fPaVWXUd",
        "outputId": "a2c80ad9-7687-4f8c-c113-67e1a4f3ecfe"
      },
      "execution_count": null,
      "outputs": [
        {
          "output_type": "stream",
          "name": "stdout",
          "text": [
            "박수 1 2 박수 4 5 박수 7 8 박수 10 11 박수 13 14 박수 16 17 박수 19 20 박수 22 23 박수 25 26 박수 28 29 박수 "
          ]
        }
      ]
    },
    {
      "cell_type": "code",
      "source": [
        "for num in range(1, ):     # 1부터 11까지의 숫자를 반복\n",
        "  if num % 3 == 0:         # 숫자(num)를 3으로 나눈 나머지가 0인 경우\n",
        "    print(\"박수\", end=' ') # 박수를 출력하고 공백 만듦\n",
        "  else:                    # 그게 아니면\n",
        "    print(num, end= ' ')   # 숫자만 출력하고 공백 만듦"
      ],
      "metadata": {
        "colab": {
          "base_uri": "https://localhost:8080/"
        },
        "id": "z_kyygCcZW8Z",
        "outputId": "33e68058-cde6-431a-9dc8-0a3ea670ebb2"
      },
      "execution_count": null,
      "outputs": [
        {
          "output_type": "stream",
          "name": "stdout",
          "text": [
            "박수 "
          ]
        }
      ]
    },
    {
      "cell_type": "markdown",
      "source": [
        "6. 팩토리얼 계산하는 코드 작성"
      ],
      "metadata": {
        "id": "byDfs85eaceJ"
      }
    },
    {
      "cell_type": "code",
      "source": [
        "i = 5 # 변수 i를 5로 초기화합니다.\n",
        "factorial = 1 # 변수 factorial을 1로 초기화합니다.\n",
        "while i >= 1: # i가 1 이상인 동안 반복합니다.\n",
        "  factorial = factorial * i # factorial에 i를 곱합니다.\n",
        "  i -= 1 # i에 1을 뺍니다.\n",
        "print(factorial) # factorial을 출력합니다."
      ],
      "metadata": {
        "colab": {
          "base_uri": "https://localhost:8080/"
        },
        "id": "wrsSlsvBafzw",
        "outputId": "d9316593-f53c-45b1-a1e2-5252bcb22b5e"
      },
      "execution_count": null,
      "outputs": [
        {
          "output_type": "stream",
          "name": "stdout",
          "text": [
            "120\n"
          ]
        }
      ]
    },
    {
      "cell_type": "code",
      "source": [
        "num = int(input(\"팩토리얼 값입력: \")) # 사용자로부터 정수 값을 입력받아 변수 num에 저장합니다.\n",
        "factorial = 1 # 변수 factorial을 1로 초기화합니다.\n",
        "while num >= 1: # num이 1 이상인 동안 반복합니다.\n",
        "  factorial = factorial * num # factorial에 num을 곱합니다.\n",
        "  num -= 1 # num에 1을 뺍니다.\n",
        "print(\"계산된 팩토리얼 값은 :\", factorial) # 계산된 팩토리얼 값을 출력합니다."
      ],
      "metadata": {
        "colab": {
          "base_uri": "https://localhost:8080/"
        },
        "id": "4Zzk4thpbi5i",
        "outputId": "bccce0a6-bc18-4f52-8b57-30e6aa70dee6"
      },
      "execution_count": null,
      "outputs": [
        {
          "output_type": "stream",
          "name": "stdout",
          "text": [
            "팩토리얼 값입력: 5\n",
            "계산된 팩토리얼 값은 : 120\n"
          ]
        }
      ]
    }
  ]
}