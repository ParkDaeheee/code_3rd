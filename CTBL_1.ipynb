{
  "nbformat": 4,
  "nbformat_minor": 0,
  "metadata": {
    "colab": {
      "provenance": [],
      "authorship_tag": "ABX9TyMeCVQa87yTvxGyiSL5TT5U",
      "include_colab_link": true
    },
    "kernelspec": {
      "name": "python3",
      "display_name": "Python 3"
    },
    "language_info": {
      "name": "python"
    }
  },
  "cells": [
    {
      "cell_type": "markdown",
      "metadata": {
        "id": "view-in-github",
        "colab_type": "text"
      },
      "source": [
        "<a href=\"https://colab.research.google.com/github/ParkDaeheee/code_3rd/blob/main/CTBL_1.ipynb\" target=\"_parent\"><img src=\"https://colab.research.google.com/assets/colab-badge.svg\" alt=\"Open In Colab\"/></a>"
      ]
    },
    {
      "cell_type": "markdown",
      "source": [
        "1. 학생으로부터 성적을 입력받아 합격유무를 출력하는 코드작성\n",
        " - 사용변수: Grade\n",
        " - 사용수식: Grade >= 70:"
      ],
      "metadata": {
        "id": "ydIOy0v807aN"
      }
    },
    {
      "cell_type": "code",
      "source": [
        "Grade = int(input(\"성적입력: \")) # 사용자로부터 정수 값을 입력받아 변수 Grade에 저장합니다.\n",
        "if Grade >= 70: # 만약 Grade가 70 이상이면\n",
        "   print(\"70점 이상이므로 합격\") # \"70점 이상이므로 합격\"을 출력합니다.\n",
        "else: # 그렇지 않으면\n",
        "  print(\"70이하는 불합격\") # \"70 이하는 불합격\"을 출력합니다."
      ],
      "metadata": {
        "colab": {
          "base_uri": "https://localhost:8080/"
        },
        "id": "KWfxX28I1TsH",
        "outputId": "fc09f04d-7689-4f5b-ac9c-14a33e839a5c"
      },
      "execution_count": null,
      "outputs": [
        {
          "output_type": "stream",
          "name": "stdout",
          "text": [
            "성적입력: 69\n",
            "70이하는 불합격\n"
          ]
        }
      ]
    },
    {
      "cell_type": "markdown",
      "source": [
        "2. 쇼핑몰의 배송료를 계산하는 코드 작성\n",
        " - 변수는 price, shipping_cost\n",
        " - 수식 : price >= 20000\n",
        " - shipping_cost = 0\n",
        "   print(f'구입금액이 (price)원 이상입니다.')\n",
        "else:\n",
        "  shipping_cost = 3000\n",
        "  print(f'구입금액이 2만원 미만 이므로 (shipping_cost)'입니다.)"
      ],
      "metadata": {
        "id": "hCBpj-CV3rm8"
      }
    },
    {
      "cell_type": "code",
      "source": [
        "price = int(input(\"구입금액 입력: \")) # 사용자로부터 정수 값을 입력받아 변수 price에 저장합니다.\n",
        "if price >= 20000: # 만약 price가 20000 이상이면\n",
        "  shippong_cost = 0 # 배송비를 0으로 설정합니다.\n",
        "  price(f'구입금액이 (price)원 이상입니다.') # 오타 수정: print(f'구입금액이 {price}원 이상입니다.')로 수정해야 합니다.\n",
        "else: # 그렇지 않으면\n",
        "  shipping_cost = 3000 # 배송비를 3000으로 설정합니다.\n",
        "  print(\"구입금액이 2만원 이하입니다\") # 구입금액이 2만원 이하임을 출력합니다.\n",
        "print(f'회원님의 배송료는 {shipping_cost}입니다.') # 회원님의 배송료를 출력합니다."
      ],
      "metadata": {
        "colab": {
          "base_uri": "https://localhost:8080/"
        },
        "id": "Y6cceQDr42MN",
        "outputId": "520dee1f-3c62-472d-95e9-16e0ee3c3cb5"
      },
      "execution_count": null,
      "outputs": [
        {
          "output_type": "stream",
          "name": "stdout",
          "text": [
            "구입금액 입력: 525\n",
            "구입금액이 2만원 이하입니다\n",
            "회원님의 배송료는 3000입니다.\n"
          ]
        }
      ]
    },
    {
      "cell_type": "markdown",
      "source": [
        "3. 근무시간에 따라 초과근무와 정상근무를 판별하는 코드작성\n",
        " - 변수 : work_hour\n",
        " - 수식 : >= , 기준시간 : 72시간"
      ],
      "metadata": {
        "id": "TDoed6u079sJ"
      }
    },
    {
      "cell_type": "code",
      "source": [
        "work_hour = int(input(\"근무시간 입력: \")) # 사용자로부터 정수 값을 입력받아 변수 work_hour에 저장합니다.\n",
        "if work_hour >= 72: # 만약 work_hour가 72 이상이면\n",
        "  print(\"초과근무하였습니다.\") # \"초과근무하였습니다.\"를 출력합니다.\n",
        "else: # 그렇지 않으면\n",
        "  print(\"정상근무하였습니다.\") # \"정상근무하였습니다.\"를 출력합니다."
      ],
      "metadata": {
        "colab": {
          "base_uri": "https://localhost:8080/"
        },
        "id": "v52YMO9s8dqs",
        "outputId": "e5bf1b02-67ce-4fea-c041-0f940d07a0c8"
      },
      "execution_count": null,
      "outputs": [
        {
          "output_type": "stream",
          "name": "stdout",
          "text": [
            "근무시간 입력: 73\n",
            "초과근무하였습니다.\n"
          ]
        }
      ]
    },
    {
      "cell_type": "markdown",
      "source": [
        "4. 정수를 입력받아서 짝수인지 홀수인지 판별하는 코드 작성\n",
        " - 변수: num\n",
        " - 수식: num (% 2) != 0:"
      ],
      "metadata": {
        "id": "5P3Jsdu59-Nq"
      }
    },
    {
      "cell_type": "code",
      "source": [
        "num = int(input(\"정수를 입력하시오:\")) # 사용자로부터 정수 값을 입력받아 변수 num에 저장합니다.\n",
        "if (num % 2) != 0: # 만약 num을 2로 나눈 나머지가 0이 아니라면\n",
        "  print(\"홀수입니다.\") # \"홀수입니다.\"를 출력합니다.\n",
        "else: # 그렇지 않으면\n",
        "  print(\"짝수입니다.\") # \"짝수입니다.\"를 출력합니다."
      ],
      "metadata": {
        "colab": {
          "base_uri": "https://localhost:8080/"
        },
        "id": "i9AGwD4O-uYR",
        "outputId": "d66dc641-7cc1-4da4-e10a-30e624b9f1b8"
      },
      "execution_count": null,
      "outputs": [
        {
          "output_type": "stream",
          "name": "stdout",
          "text": [
            "정수를 입력하시오:4\n",
            "짝수입니다.\n"
          ]
        }
      ]
    },
    {
      "cell_type": "markdown",
      "source": [
        "5. 사용자의 이름과 나이를 입력받고, 답변하는 코드 작성\n",
        " - 입력 : 성명 - name\n",
        " - 입력 : 나이 - age\n",
        " - 수식 : if age <= 20:\n",
        "\n",
        "  최종 출력물\n",
        "  - 이름을 입력하시오.: 박대희\n",
        "  - 나이를 입력하시오.: 20\n",
        "  - (1) 프로그래밍을 배우는 최적의 나이입니다.\n",
        "  - (2) 아직도 늦지 않았습니다. 도전정신"
      ],
      "metadata": {
        "id": "96QNbTVxAlcq"
      }
    },
    {
      "cell_type": "code",
      "source": [
        "name = input(\"이름을 입력하시오.: \") # 사용자로부터 이름을 입력받습니다. 입력값은 무시되고 넘어갑니다.\n",
        "age = int(input(\"나이를 입력하시오.: \")) # 사용자로부터 나이를 입력받아 정수로 변환한 후 변수 age에 저장합니다.\n",
        "if age <= 20: # 만약 age가 20 이하라면\n",
        "   print(\"프로그래밍을 배우는 최적의 나이입니다.\") # \"프로그래밍을 배우는 최적의 나이입니다.\"를 출력합니다.\n",
        "else: # 그렇지 않으면\n",
        "   print(\"아직도 늦지 않았습니다. 도전정신\") # \"아직도 늦지 않았습니다. 도전정신\"을 출력합니다."
      ],
      "metadata": {
        "colab": {
          "base_uri": "https://localhost:8080/"
        },
        "id": "pAPz3o0CBfDd",
        "outputId": "950dea96-c9f3-4bb5-f3f1-45d5bc90fc2a"
      },
      "execution_count": 3,
      "outputs": [
        {
          "output_type": "stream",
          "name": "stdout",
          "text": [
            "이름을 입력하시오.: 박대희\n",
            "나이를 입력하시오.: 20\n",
            "프로그래밍을 배우는 최적의 나이입니다.\n"
          ]
        }
      ]
    },
    {
      "cell_type": "code",
      "source": [
        "# 먼저 필요한 라이브러리를 불러옵니다.\n",
        "import random # random 라이브러리를 불러옵니다.\n",
        "\n",
        "def generate_lotto_numbers():\n",
        "    # 로또 번호는 1부터 45까지입니다. 이 범위 내에서 랜덤으로 숫자 6개를 선택합니다.\n",
        "    lotto_numbers = random.sample(range(1, 46), 6) # random.sample() 함수를 사용하여 중복되지 않는 6개의 랜덤 숫자를 선택합니다.\n",
        "    # 선택된 숫자를 정렬하여 반환합니다.\n",
        "    return sorted(lotto_numbers) # 선택된 숫자를 오름차순으로 정렬하여 반환합니다.\n",
        "\n",
        "# 함수를 실행하고 결과를 출력합니다.\n",
        "print(generate_lotto_numbers()) # generate_lotto_numbers() 함수를 호출하여 로또 번호를 생성하고 출력합니다."
      ],
      "metadata": {
        "colab": {
          "base_uri": "https://localhost:8080/"
        },
        "id": "VkLFcEkNFDqh",
        "outputId": "9c408887-44f5-4b1c-b5fa-05bd5540cb06"
      },
      "execution_count": null,
      "outputs": [
        {
          "output_type": "stream",
          "name": "stdout",
          "text": [
            "[1, 19, 27, 32, 39, 45]\n"
          ]
        }
      ]
    },
    {
      "cell_type": "code",
      "source": [
        "name = input(\"이름을 입력해주세요: \") # 사용자로부터 이름을 입력받습니다.\n",
        "age = int(input(\"나이를 입력해주세요: \")) # 사용자로부터 나이를 입력받아 정수로 변환합니다.\n",
        "\n",
        "# 나이가 20살 이하거나 같은 경우\n",
        "if age <= 20:\n",
        "    print(f\"{name}님, 당신은 프로그램을 배우는 최적의 나이입니다.\") # \"뤼튼님, 당신은 프로그램을 배우는 최적의 나이입니다.\"를 출력합니다.\n",
        "# 그렇지 않은 경우\n",
        "else: # 그렇지 않은 경우\n",
        "    print(f\"{name}님, 아직도 늦지 않았습니다. 도전해보세요.\") # \"뤼튼님, 아직도 늦지 않았습니다. 도전해보세요.\"를 출력합니다."
      ],
      "metadata": {
        "colab": {
          "base_uri": "https://localhost:8080/"
        },
        "id": "u_69j-LZGcQP",
        "outputId": "19ffa8fd-2303-43b9-95e1-e5624557aefe"
      },
      "execution_count": null,
      "outputs": [
        {
          "output_type": "stream",
          "name": "stdout",
          "text": [
            "이름을 입력해주세요: 박대희\n",
            "나이를 입력해주세요: 20\n",
            "박대희님, 당신은 프로그램을 배우는 최적의 나이입니다.\n"
          ]
        }
      ]
    }
  ]
}