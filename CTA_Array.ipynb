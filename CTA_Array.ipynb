{
  "nbformat": 4,
  "nbformat_minor": 0,
  "metadata": {
    "colab": {
      "provenance": [],
      "authorship_tag": "ABX9TyMOgdsAFGLb+BZPFNXOIHzJ",
      "include_colab_link": true
    },
    "kernelspec": {
      "name": "python3",
      "display_name": "Python 3"
    },
    "language_info": {
      "name": "python"
    }
  },
  "cells": [
    {
      "cell_type": "markdown",
      "metadata": {
        "id": "view-in-github",
        "colab_type": "text"
      },
      "source": [
        "<a href=\"https://colab.research.google.com/github/ParkDaeheee/code_3rd/blob/main/CTA_Array.ipynb\" target=\"_parent\"><img src=\"https://colab.research.google.com/assets/colab-badge.svg\" alt=\"Open In Colab\"/></a>"
      ]
    },
    {
      "cell_type": "markdown",
      "source": [
        "1. 배열의 선언\n",
        " - 일반 변수의 선언 : 변수명 = 변수의 값\n",
        " - 배열의 변수 선언 : 변수명 = [, ,]"
      ],
      "metadata": {
        "id": "S1bx6--MMZLG"
      }
    },
    {
      "cell_type": "code",
      "source": [
        "movie_list = [\"아바타\", \"타이타닉\", \"스타워즈\", \"쥬라기월드\", \"어밴져스\"]\n",
        "print(movie_list[0])\n",
        "print(movie_list[4])"
      ],
      "metadata": {
        "colab": {
          "base_uri": "https://localhost:8080/"
        },
        "id": "iQdb2KbNNVgc",
        "outputId": "a26bc8bd-3752-4f94-e5eb-3fe6afc559e7"
      },
      "execution_count": 9,
      "outputs": [
        {
          "output_type": "stream",
          "name": "stdout",
          "text": [
            "아바타\n",
            "어밴져스\n"
          ]
        }
      ]
    },
    {
      "cell_type": "markdown",
      "source": [
        "2. 요일을 배열로 선언하라.\n",
        " - 변수명: day_list\n",
        " * 요일 : 월(Mon.), 화(Tues.), 수(Wed.), 목(Thur.), 금(Fri.), 토(Sat.), 일(Sun.)"
      ],
      "metadata": {
        "id": "objyW1qFOa2Y"
      }
    },
    {
      "cell_type": "code",
      "source": [
        "day_list = [\"월(Mon.)\", \"화(Tues.)\", \"수(Wed.)\", \"목(Thur.)\", \"금(Fri.)\", \"토(Sat.)\", \"일(Sun.)\"]\n",
        "print(day_list[0])\n",
        "print(day_list[1])\n",
        "print(day_list[2])\n",
        "print(day_list[3])\n",
        "print(day_list[4])\n",
        "print(day_list[5])\n",
        "print(day_list[6])"
      ],
      "metadata": {
        "colab": {
          "base_uri": "https://localhost:8080/"
        },
        "id": "Cerf7dbePYMb",
        "outputId": "499aae25-5c9e-4400-dd98-7005fce8d29b"
      },
      "execution_count": 17,
      "outputs": [
        {
          "output_type": "stream",
          "name": "stdout",
          "text": [
            "월(Mon.)\n",
            "화(Tues.)\n",
            "수(Wed.)\n",
            "목(Thur.)\n",
            "금(Fri.)\n",
            "토(Sat.)\n",
            "일(Sun.)\n"
          ]
        }
      ]
    }
  ]
}