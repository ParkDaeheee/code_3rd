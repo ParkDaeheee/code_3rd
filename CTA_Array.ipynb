{
  "nbformat": 4,
  "nbformat_minor": 0,
  "metadata": {
    "colab": {
      "provenance": [],
      "authorship_tag": "ABX9TyOXADz7sMrk+ZntMz+oUXfE",
      "include_colab_link": true
    },
    "kernelspec": {
      "name": "python3",
      "display_name": "Python 3"
    },
    "language_info": {
      "name": "python"
    }
  },
  "cells": [
    {
      "cell_type": "markdown",
      "metadata": {
        "id": "view-in-github",
        "colab_type": "text"
      },
      "source": [
        "<a href=\"https://colab.research.google.com/github/ParkDaeheee/code_3rd/blob/main/CTA_Array.ipynb\" target=\"_parent\"><img src=\"https://colab.research.google.com/assets/colab-badge.svg\" alt=\"Open In Colab\"/></a>"
      ]
    },
    {
      "cell_type": "markdown",
      "source": [
        "1. 배열의 선언\n",
        " - 일반 변수의 선언 : 변수명 = 변수의 값\n",
        " - 배열의 변수 선언 : 변수명 = [, ,]"
      ],
      "metadata": {
        "id": "S1bx6--MMZLG"
      }
    },
    {
      "cell_type": "code",
      "source": [
        "movie_list = [\"아바타\", \"타이타닉\", \"스타워즈\", \"쥬라기월드\", \"어밴져스\"] # 영화 목록을 담은 리스트 생성\n",
        "print(movie_list[0]) # movie_list의 첫 번째 요소를 출력합니다. 인덱스는 0부터 시작하므로 \"아바타\"가 출력됩니다.\n",
        "print(movie_list[4]) # movie_list의 다섯 번째 요소를 출력합니다. 인덱스는 0부터 시작하므로 \"어밴져스\"가 출력됩니다."
      ],
      "metadata": {
        "colab": {
          "base_uri": "https://localhost:8080/"
        },
        "id": "iQdb2KbNNVgc",
        "outputId": "a26bc8bd-3752-4f94-e5eb-3fe6afc559e7"
      },
      "execution_count": null,
      "outputs": [
        {
          "output_type": "stream",
          "name": "stdout",
          "text": [
            "아바타\n",
            "어밴져스\n"
          ]
        }
      ]
    },
    {
      "cell_type": "markdown",
      "source": [
        "2. 요일을 배열로 선언하라.\n",
        " - 변수명: day_list\n",
        " * 요일 : 월(Mon.), 화(Tues.), 수(Wed.), 목(Thur.), 금(Fri.), 토(Sat.), 일(Sun.)"
      ],
      "metadata": {
        "id": "objyW1qFOa2Y"
      }
    },
    {
      "cell_type": "code",
      "source": [
        "day_list = [\"월(Mon.)\", \"화(Tues.)\", \"수(Wed.)\", \"목(Thur.)\", \"금(Fri.)\", \"토(Sat.)\", \"일(Sun.)\"] # 요일 목록을 담은 리스트 생성\n",
        "print(day_list[0]) # day_list의 첫 번째 요소를 출력합니다. 인덱스는 0부터 시작하므로 \"월(Mon.)\"이 출력됩니다.\n",
        "print(day_list[1]) # day_list의 두 번째 요소를 출력합니다. 인덱스는 0부터 시작하므로 \"화(Tues.)\"이 출력됩니다.\n",
        "print(day_list[2]) # day_list의 세 번째 요소를 출력합니다. 인덱스는 0부터 시작하므로 \"수(Wed.)\"이 출력됩니다.\n",
        "print(day_list[3]) # day_list의 네 번째 요소를 출력합니다. 인덱스는 0부터 시작하므로 \"목(Thur.)\"이 출력됩니다.\n",
        "print(day_list[4]) # day_list의 다섯 번째 요소를 출력합니다. 인덱스는 0부터 시작하므로 \"금(Fri.)\"이 출력됩니다.\n",
        "print(day_list[5]) # day_list의 여섯 번째 요소를 출력합니다. 인덱스는 0부터 시작하므로 \"토(Sat.)\"이 출력됩니다.\n",
        "print(day_list[6]) # day_list의 일곱 번째 요소를 출력합니다. 인덱스는 0부터 시작하므로 \"일(Sun.)\"이 출력됩니다."
      ],
      "metadata": {
        "colab": {
          "base_uri": "https://localhost:8080/"
        },
        "id": "Cerf7dbePYMb",
        "outputId": "499aae25-5c9e-4400-dd98-7005fce8d29b"
      },
      "execution_count": null,
      "outputs": [
        {
          "output_type": "stream",
          "name": "stdout",
          "text": [
            "월(Mon.)\n",
            "화(Tues.)\n",
            "수(Wed.)\n",
            "목(Thur.)\n",
            "금(Fri.)\n",
            "토(Sat.)\n",
            "일(Sun.)\n"
          ]
        }
      ]
    }
  ]
}