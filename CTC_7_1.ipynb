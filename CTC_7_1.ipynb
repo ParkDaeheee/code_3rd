{
  "nbformat": 4,
  "nbformat_minor": 0,
  "metadata": {
    "colab": {
      "provenance": [],
      "authorship_tag": "ABX9TyNxnv5hD8cmzI+XAPGMYJKF",
      "include_colab_link": true
    },
    "kernelspec": {
      "name": "python3",
      "display_name": "Python 3"
    },
    "language_info": {
      "name": "python"
    }
  },
  "cells": [
    {
      "cell_type": "markdown",
      "metadata": {
        "id": "view-in-github",
        "colab_type": "text"
      },
      "source": [
        "<a href=\"https://colab.research.google.com/github/ParkDaeheee/code_3rd/blob/main/CTC_7_1.ipynb\" target=\"_parent\"><img src=\"https://colab.research.google.com/assets/colab-badge.svg\" alt=\"Open In Colab\"/></a>"
      ]
    },
    {
      "cell_type": "markdown",
      "source": [
        "1. 사용자로부터 3개의 값 (x,y,z)를 입력받아서 각각 1씩 증가하고, 출력되는 코드작성"
      ],
      "metadata": {
        "id": "-C-q_o_LG5oq"
      }
    },
    {
      "cell_type": "code",
      "source": [
        "x = int(input(\"X의 값을 입력하시오.: \")) # 사용자로부터 X의 값을 입력받아 정수로 변환하여 변수 x에 저장합니다.\n",
        "y = int(input(\"Y의 값을 입력하시오.: \")) # 사용자로부터 Y의 값을 입력받아 정수로 변환하여 변수 y에 저장합니다.\n",
        "z = int(input(\"Z의 값을 입력하시오.: \")) # 사용자로부터 Z의 값을 입력받아 정수로 변환하여 변수 z에 저장합니다.\n",
        "x = x + 1 # 변수 x의 값을 1 증가시킵니다.\n",
        "y = y + 1 # 변수 y의 값을 1 증가시킵니다.\n",
        "z = z + 1 # 변수 z의 값을 1 증가시킵니다.\n",
        "print(f'x의 값은 {x}이며, y의 값은 {y}이고, z의 값은 {z}이다. ') # 변수 x, y, z의 값을 출력합니다."
      ],
      "metadata": {
        "colab": {
          "base_uri": "https://localhost:8080/"
        },
        "id": "WF4chssDHWwh",
        "outputId": "f6abc473-28a9-479a-9efe-a2d6dbbf8378"
      },
      "execution_count": null,
      "outputs": [
        {
          "output_type": "stream",
          "name": "stdout",
          "text": [
            "X의 값을 입력하시오.: 1\n",
            "Y의 값을 입력하시오.: 2\n",
            "Z의 값을 입력하시오.: 3\n",
            "X의 값은 2이며, Y의 값은 3이고, Z의 값은 4이다. \n"
          ]
        }
      ]
    },
    {
      "cell_type": "markdown",
      "source": [
        "2. 알바생의 시급과 시간을 계산하여 월급을 출력한 코드"
      ],
      "metadata": {
        "id": "qtSUb90LJXx7"
      }
    },
    {
      "cell_type": "code",
      "source": [
        "hours_worked = int(input(\"일한 시간을 입력하시오: \")) # 사용자로부터 일한 시간을 입력받아 정수로 변환하여 변수 hours_worked에 저장합니다.\n",
        "pay_rate = int(input(\"시급을 입력하시오(23기준 9620원)\")) # 사용자로부터 시급을 입력받아 정수로 변환하여 변수 pay_rate에 저장합니다.\n",
        "monthly_pay = hours_worked * pay_rate # 월급여를 계산하여 변수 monthly_pay에 저장합니다.\n",
        "print(f'일한시간은 {hours_worked}이고, 지금은 {pay_rate}이며, 월급여는 {monthly_pay}입니다.') # 일한 시간, 시급, 월급여를 출력합니다."
      ],
      "metadata": {
        "colab": {
          "base_uri": "https://localhost:8080/"
        },
        "id": "svHQ1uujJeJy",
        "outputId": "f9742634-3395-474f-ad5c-8a243025b1f4"
      },
      "execution_count": null,
      "outputs": [
        {
          "output_type": "stream",
          "name": "stdout",
          "text": [
            "일한 시간을 입력하시오: 10\n",
            "시급을 입력하시오(23기준 9620원)9620\n",
            "일한시간은 10이고, 지금은 9620이며, 월급여는 96200입니다.\n"
          ]
        }
      ]
    },
    {
      "cell_type": "markdown",
      "source": [
        "3. 환율계산하는 코드작성\n",
        " - 원의 변수는 won\n",
        " - 달러의 변수는 usd\n",
        " - 환전의 변수는 exchange"
      ],
      "metadata": {
        "id": "2V_DCyisLqIL"
      }
    },
    {
      "cell_type": "code",
      "source": [
        "won = int(input(\"환전할 급액을 입력\")) # 사용자로부터 환전할 금액을 입력받아 정수로 변환하여 변수 won에 저장합니다.\n",
        "usd = int(input(\"현재 달러의 환율 입력(231031: 1372):\")) # 사용자로부터 달러의 환율을 입력받아 정수로 변환하여 변수 usd에 저장합니다.\n",
        "exchange = won // usd # 환전할 금액을 달러 환율로 나누어 환전된 달러 금액을 계산하여 변수 exchange에 저장합니다.\n",
        "print(f'환전할 금액은 {won}이며, 달러 금액은 {usd}이고, 환전금액은 {exchange}달러이다') # 환전할 금액, 달러 환율, 환전된 금액을 출력합니다."
      ],
      "metadata": {
        "colab": {
          "base_uri": "https://localhost:8080/"
        },
        "id": "8scClYD1L8Uo",
        "outputId": "e1e094d6-81ab-4cb7-c711-a28f718ce988"
      },
      "execution_count": null,
      "outputs": [
        {
          "output_type": "stream",
          "name": "stdout",
          "text": [
            "환전할 급액을 입력5000\n",
            "현재 달러의 환율 입력(231031: 1372):1372\n",
            "환전할 금액은 5000이며, 달러 금액은 1372이고, 환전금액은 3달러이다\n"
          ]
        }
      ]
    },
    {
      "cell_type": "markdown",
      "source": [],
      "metadata": {
        "id": "OKPRR9iFU11V"
      }
    },
    {
      "cell_type": "markdown",
      "source": [
        "4. 화씨(fahrenheit)를 섭씨(ceicius)로 변환하는 코드작성"
      ],
      "metadata": {
        "id": "9YKGFZqnOGXN"
      }
    },
    {
      "cell_type": "code",
      "source": [
        "fahrenheit = int(input(\"화씨온도를 입력하시오.: \")) # 사용자로부터 화씨 온도를 입력받아 정수로 변환하여 변수 fahrenheit에 저장합니다.\n",
        "ceicius = (fahrenheit - 32) // 1.8 # 화씨 온도를 섭씨 온도로 변환하여 변수 celsius에 저장합니다.\n",
        "print(f'화씨온도는 {fahrenheit}, 섭씨 {ceicius}도 입니다') # 화씨 온도와 섭씨 온도를 출력합니다."
      ],
      "metadata": {
        "colab": {
          "base_uri": "https://localhost:8080/"
        },
        "id": "CDCOnZsbOZK8",
        "outputId": "b15e25c3-d795-4c15-c96a-561543941f1d"
      },
      "execution_count": null,
      "outputs": [
        {
          "output_type": "stream",
          "name": "stdout",
          "text": [
            "화씨온도를 입력하시오.: 100\n",
            "화씨온도는 100, 섭씨 37.0도 입니다\n"
          ]
        }
      ]
    },
    {
      "cell_type": "code",
      "source": [
        "ceicius = float(input(\"섭씨온도를 입력하시오.: \")) # 사용자로부터 섭씨 온도를 입력받아 실수로 변환하여 변수 celsius에 저장합니다.\n",
        "fahrenheit = (ceicius * 1.8) + 32 # 섭씨 온도를 화씨 온도로 변환하여 변수 fahrenheit에 저장합니다.\n",
        "print(f'섭씨온도는 {ceicius}도는, 화씨 {fahrenheit}도 입니다') # 섭씨 온도와 화씨 온도를 출력합니다."
      ],
      "metadata": {
        "colab": {
          "base_uri": "https://localhost:8080/"
        },
        "id": "0YciiXKuPtSr",
        "outputId": "6b17e3a9-92bd-4f3b-b5c5-fb6d4d4bc822"
      },
      "execution_count": null,
      "outputs": [
        {
          "output_type": "stream",
          "name": "stdout",
          "text": [
            "섭씨온도를 입력하시오.: 37\n",
            "섭씨온도는 37.0도는, 화씨 98.60000000000001도 입니다\n"
          ]
        }
      ]
    },
    {
      "cell_type": "markdown",
      "source": [
        "5. 사용자로부터 2개의 정수를 받아서 합계를 출력"
      ],
      "metadata": {
        "id": "iUuBko7gU3WU"
      }
    },
    {
      "cell_type": "code",
      "source": [
        "x = int(input(\"x의 값을 입력하시오.\")) # 사용자로부터 x의 값을 입력받아 정수로 변환하여 변수 x에 저장합니다.\n",
        "y - int(input(\"y의 값을 입력하시오.\")) # 사용자로부터 y의 값을 입력받아 정수로 변환하여 변수 y에 저장합니다.\n",
        "sum = x + y # 변수 x와 y의 합을 계산하여 변수 sum에 저장합니다.\n",
        "print(f'x는 {x}이고, y는 {y}이며, 두 수의 합은 {sum}이다.') # 변수 x, y, sum의 값을 출력합니다."
      ],
      "metadata": {
        "colab": {
          "base_uri": "https://localhost:8080/"
        },
        "id": "nKkIhGFyVHt5",
        "outputId": "12a568de-d8cf-47d8-990c-79080730cbed"
      },
      "execution_count": null,
      "outputs": [
        {
          "output_type": "stream",
          "name": "stdout",
          "text": [
            "x의 값을 입력하시오.5\n",
            "y의 값을 입력하시오.10\n",
            "x는 5이고, y는 2이며, 두 수의 합은 7이다.\n"
          ]
        }
      ]
    },
    {
      "cell_type": "markdown",
      "source": [
        "6. 부가세 계산"
      ],
      "metadata": {
        "id": "FOvsAFoaXL_2"
      }
    },
    {
      "cell_type": "code",
      "source": [
        "price = int(input(\"상품의 가격을 입력하시오. \")) # 사용자로부터 상품의 가격을 입력받아 정수로 변환하여 변수 price에 저장합니다.\n",
        "vat = price * 0.1 # 상품의 가격에 10%의 부가세를 계산하여 변수 vat에 저장합니다.\n",
        "print(f'상품의 가격은{price}원이고, 상품의 부가세는 {vat}원이다. ') # 상품의 가격과 부가세를 출력합니다."
      ],
      "metadata": {
        "colab": {
          "base_uri": "https://localhost:8080/"
        },
        "id": "VLf64ENsXOpD",
        "outputId": "8cc45443-2ad7-42bb-b49e-58f4cba22cc7"
      },
      "execution_count": null,
      "outputs": [
        {
          "output_type": "stream",
          "name": "stdout",
          "text": [
            "상품의 가격을 입력하시오. 5000\n",
            "상품의 가격은5000원이고, 상품의 부가세는 500.0원이다. \n"
          ]
        }
      ]
    },
    {
      "cell_type": "markdown",
      "source": [],
      "metadata": {
        "id": "Pii2ABzIN9Mx"
      }
    }
  ]
}